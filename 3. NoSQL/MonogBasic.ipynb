{
 "cells": [
  {
   "cell_type": "code",
   "execution_count": null,
   "id": "49fee333-9cb0-4340-88df-d668c455f120",
   "metadata": {},
   "outputs": [],
   "source": [
    "#!pip install pymongo"
   ]
  },
  {
   "cell_type": "code",
   "execution_count": null,
   "id": "b7c912d2-1396-448a-a1ec-c7fa69f316ac",
   "metadata": {},
   "outputs": [],
   "source": [
    "\n",
    "import os\n",
    "import datetime\n",
    "import pymongo\n",
    "import pprint\n",
    "import pandas as pd"
   ]
  },
  {
   "cell_type": "code",
   "execution_count": null,
   "id": "0a1de705-70bf-4402-82ae-701a8e0e8f31",
   "metadata": {},
   "outputs": [],
   "source": [
    "host_name = \"localhost\"\n",
    "port = \"27017\"\n",
    "\n",
    "atlas_cluster_name = \"cluster0.xuibg2h\"\n",
    "atlas_default_dbname = \"sakila\"\n",
    "atlas_user_name = \"ds2002sp23\"\n",
    "atlas_password = \"uva1819\""
   ]
  },
  {
   "cell_type": "code",
   "execution_count": null,
   "id": "7813ebc8-a030-47da-88bb-d0235cdfd1c6",
   "metadata": {},
   "outputs": [],
   "source": [
    "conn_str = {\n",
    "    \"local\" : f\"mongodb://{host_name}:{port}/\",\n",
    "    \"atlas\" : f\"mongodb+srv://{atlas_user_name}:{atlas_password}@{atlas_cluster_name}.mongodb.net/{atlas_default_dbname}\"\n",
    "}\n",
    "\n",
    "client = pymongo.MongoClient(conn_str[\"atlas\"])\n",
    "\n",
    "print(f\"Local Connection String: {conn_str['local']}\")\n",
    "print(f\"Atlas Connection String: {conn_str['atlas']}\")"
   ]
  },
  {
   "cell_type": "code",
   "execution_count": null,
   "id": "58127b26-45da-4a9a-b592-089ccb9f9f57",
   "metadata": {},
   "outputs": [],
   "source": [
    "db_name = \"blog\"\n",
    "client = pymongo.MongoClient(conn_str[\"local\"])\n",
    "db = client[db_name]\n",
    "client.list_database_names()"
   ]
  },
  {
   "cell_type": "code",
   "execution_count": null,
   "id": "36ebad9d-9168-407d-814c-3f64cc3a8d13",
   "metadata": {},
   "outputs": [],
   "source": [
    "db.list_collection_names()"
   ]
  },
  {
   "cell_type": "code",
   "execution_count": null,
   "id": "573d8bb3-48d4-477c-a296-3d8b4ee7171f",
   "metadata": {},
   "outputs": [],
   "source": [
    "db.list_collection_names()"
   ]
  },
  {
   "cell_type": "code",
   "execution_count": null,
   "id": "8046077a-3738-454d-960b-53fba0fc1676",
   "metadata": {},
   "outputs": [],
   "source": [
    "post = {\"author\": \"Mary\",\n",
    "        \"text\": \"My first blog post!\",\n",
    "        \"tags\": [\"mongodb\", \"python\", \"pymongo\"],\n",
    "        \"date\": datetime.datetime.utcnow()\n",
    "       }\n",
    "\n",
    "posts = db.posts\n",
    "post_id = posts.insert_one(post).inserted_id\n",
    "\n",
    "print(\"Document ID: \", post_id)"
   ]
  },
  {
   "cell_type": "code",
   "execution_count": null,
   "id": "c2ac77c0-3778-46b1-a045-5de2707bf45e",
   "metadata": {},
   "outputs": [],
   "source": [
    "print(\"Databases: \", client.list_database_names())\n",
    "print(\"Collections: \", db.list_collection_names())"
   ]
  },
  {
   "cell_type": "code",
   "execution_count": null,
   "id": "85f4ef18-0c7c-40ed-9aed-9975c35e641e",
   "metadata": {},
   "outputs": [],
   "source": [
    "pprint.pprint(posts.find_one({}))"
   ]
  },
  {
   "cell_type": "code",
   "execution_count": null,
   "id": "8fafdc82-b3b4-49c3-90c5-96e9e40bf3b0",
   "metadata": {},
   "outputs": [],
   "source": []
  }
 ],
 "metadata": {
  "kernelspec": {
   "display_name": "Python 3 (ipykernel)",
   "language": "python",
   "name": "python3"
  },
  "language_info": {
   "codemirror_mode": {
    "name": "ipython",
    "version": 3
   },
   "file_extension": ".py",
   "mimetype": "text/x-python",
   "name": "python",
   "nbconvert_exporter": "python",
   "pygments_lexer": "ipython3",
   "version": "3.11.7"
  }
 },
 "nbformat": 4,
 "nbformat_minor": 5
}
