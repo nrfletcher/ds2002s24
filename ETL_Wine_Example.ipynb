{
  "nbformat": 4,
  "nbformat_minor": 0,
  "metadata": {
    "colab": {
      "provenance": [],
      "authorship_tag": "ABX9TyPnUu1jFbMP8Eo6GJh3jmry",
      "include_colab_link": true
    },
    "kernelspec": {
      "name": "python3",
      "display_name": "Python 3"
    },
    "language_info": {
      "name": "python"
    }
  },
  "cells": [
    {
      "cell_type": "markdown",
      "metadata": {
        "id": "view-in-github",
        "colab_type": "text"
      },
      "source": [
        "<a href=\"https://colab.research.google.com/github/jasonwnc/ds2002s24/blob/main/ETL_Wine_Example.ipynb\" target=\"_parent\"><img src=\"https://colab.research.google.com/assets/colab-badge.svg\" alt=\"Open In Colab\"/></a>"
      ]
    },
    {
      "cell_type": "code",
      "execution_count": 1,
      "metadata": {
        "id": "EeT1w50LSnBF"
      },
      "outputs": [],
      "source": [
        "import pandas as pd\n",
        "import numpy as np"
      ]
    },
    {
      "cell_type": "code",
      "source": [
        "# Extraction\n",
        "wine_url = \"https://archive.ics.uci.edu/ml/machine-learning-databases/wine/wine.data\"\n",
        "wine_data = pd.read_csv(wine_url, header=None)\n",
        "\n",
        "wine_quality_url = \"https://archive.ics.uci.edu/ml/machine-learning-databases/wine-quality/winequality-red.csv\"\n",
        "wine_quality_data = pd.read_csv(wine_quality_url, sep=\";\")\n"
      ],
      "metadata": {
        "id": "UIRxi1SmTLHA"
      },
      "execution_count": 2,
      "outputs": []
    },
    {
      "cell_type": "code",
      "source": [
        "# Initial look at the data\n",
        "print(wine_data.head())\n",
        "print(wine_quality_data.head())"
      ],
      "metadata": {
        "id": "k4ZnrOqeTO5-"
      },
      "execution_count": null,
      "outputs": []
    },
    {
      "cell_type": "code",
      "source": [
        "# Transformation\n",
        "# Assigning meaningful column names\n",
        "wine_data.columns = ['class', 'alcohol', 'malic acid', 'ash',\n",
        "                     'alcalinity of ash', 'magnesium', 'total phenols',\n",
        "                     'flavonoids', 'nonflavonoid phenols', 'proanthocyanidins',\n",
        "                     'color intensity', 'hue', 'OD280/OD315 of diluted wines',\n",
        "                     'proline']\n"
      ],
      "metadata": {
        "id": "0BbnWLolTYv3"
      },
      "execution_count": 4,
      "outputs": []
    },
    {
      "cell_type": "code",
      "source": [
        "# Converting Class column into categorical datatype\n",
        "wine_data['class'] = wine_data['class'].astype('category')\n"
      ],
      "metadata": {
        "id": "bmHdU937TOzJ"
      },
      "execution_count": 5,
      "outputs": []
    },
    {
      "cell_type": "code",
      "source": [
        "# Checking for any missing values in both datasets\n",
        "print(wine_data.isnull().sum())\n",
        "print(wine_quality_data.isnull().sum())"
      ],
      "metadata": {
        "id": "pMQ1gnqMa6L1"
      },
      "execution_count": null,
      "outputs": []
    },
    {
      "cell_type": "code",
      "source": [
        "# Normalizing 'alcohol' column in the wine_data using Min-Max normalization\n",
        "#For more on Min/Max Normaliztion https://www.geeksforgeeks.org/data-normalization-in-data-mining/\n",
        "\n",
        "wine_data['alcohol'] = (wine_data['alcohol'] - wine_data['alcohol'].min()) / (wine_data['alcohol'].max() - wine_data['alcohol'].min())\n"
      ],
      "metadata": {
        "id": "UlSsbIdGbUTJ"
      },
      "execution_count": 11,
      "outputs": []
    },
    {
      "cell_type": "code",
      "source": [
        "# Creating an average quality column in wine_quality_data\n",
        "wine_quality_data['average_quality'] = wine_quality_data[['fixed acidity', 'volatile acidity', 'citric acid',\n",
        "                                                          'residual sugar', 'chlorides', 'free sulfur dioxide',\n",
        "                                                          'total sulfur dioxide', 'density', 'pH', 'sulphates',\n",
        "                                                          'alcohol']].mean(axis = 1)\n"
      ],
      "metadata": {
        "id": "ROZGKT02bUbo"
      },
      "execution_count": 12,
      "outputs": []
    },
    {
      "cell_type": "code",
      "source": [
        "# Creating a 'quality_label' column based on 'average_quality'\n",
        "#We use cutting to create bins...which is nice for analysis...more on Binning\n",
        "#https://saturncloud.io/blog/binning-a-column-with-python-pandas/\n",
        "wine_quality_data['quality_label'] = pd.cut(wine_quality_data['average_quality'], bins=[0, 5, 7, np.inf],\n",
        "                                            labels = ['low', 'medium', 'high'])\n",
        "\n",
        "# Loading"
      ],
      "metadata": {
        "id": "isHRaMwDbUgq"
      },
      "execution_count": 14,
      "outputs": []
    },
    {
      "cell_type": "code",
      "source": [
        "# Loading\n",
        "# Saving the transformed data as a csv file\n",
        "wine_data.to_csv('wine_dataset.csv', index = False)\n",
        "wine_quality_data.to_csv('wine_quality_dataset.csv', index = False)\n"
      ],
      "metadata": {
        "id": "dHeVPp3OcRdD"
      },
      "execution_count": 17,
      "outputs": []
    },
    {
      "cell_type": "code",
      "source": [
        "import seaborn as sns\n",
        "import matplotlib.pyplot as plt"
      ],
      "metadata": {
        "id": "dYCRAj0hczHJ"
      },
      "execution_count": 18,
      "outputs": []
    },
    {
      "cell_type": "code",
      "source": [
        "# Correlation Matrix\n",
        "corr = wine_quality_data.corr(numeric_only = True)\n",
        "\n",
        "# Plot heatmap\n",
        "plt.figure(figsize = (12, 10))\n",
        "sns.heatmap(corr, annot = True, cmap = 'coolwarm')\n",
        "plt.title('Correlation Matrix of Wine Quality Data')\n",
        "\n",
        "# Save the figure\n",
        "plt.savefig('correlation_matrix.png', dpi = 300, bbox_inches = 'tight')\n",
        "\n",
        "plt.show()"
      ],
      "metadata": {
        "id": "lZbqJfRLc0qB"
      },
      "execution_count": null,
      "outputs": []
    },
    {
      "cell_type": "code",
      "source": [
        "from sklearn.model_selection import train_test_split\n",
        "from sklearn.ensemble import RandomForestClassifier\n",
        "from sklearn.metrics import accuracy_score\n",
        "\n",
        "# Define predictors and target\n",
        "X = wine_data.drop('class', axis = 1)\n",
        "y = wine_data['class']\n",
        "\n",
        "# Split the data\n",
        "X_train, X_test, y_train, y_test = train_test_split(X, y, test_size = 0.2,\n",
        "                                                        random_state = 42)\n",
        "\n",
        "# Initialize the model\n",
        "clf = RandomForestClassifier(random_state = 42)\n",
        "\n",
        "# Fit the model\n",
        "clf.fit(X_train, y_train)\n",
        "\n",
        "# Make predictions\n",
        "y_pred = clf.predict(X_test)\n",
        "\n",
        "# Check accuracy\n",
        "print(\"Accuracy:\", accuracy_score(y_test, y_pred))"
      ],
      "metadata": {
        "id": "QFkDvXQJdp4Y"
      },
      "execution_count": null,
      "outputs": []
    },
    {
      "cell_type": "code",
      "source": [
        "from sklearn.model_selection import cross_val_score\n",
        "\n",
        "# Initialize the model\n",
        "clf = RandomForestClassifier(random_state = 42)\n",
        "\n",
        "# Compute cross-validation score\n",
        "scores = cross_val_score(clf, X, y, cv = 5)\n",
        "\n",
        "print(\"Cross-validation scores:\", scores)\n",
        "print(\"Average cross-validation score:\", scores.mean())"
      ],
      "metadata": {
        "id": "B1VT8g3Idyw-"
      },
      "execution_count": null,
      "outputs": []
    },
    {
      "cell_type": "code",
      "source": [
        "import numpy as np\n",
        "import matplotlib.pyplot as plt\n",
        "\n",
        "# Plot histogram\n",
        "plt.figure(figsize = (10, 7))\n",
        "wine_quality_data['quality'].plot(kind = 'hist', rwidth = 0.95,\n",
        "                                      bins = np.arange(2.5, 9))\n",
        "\n",
        "plt.title('Distribution of Wine Quality Ratings')\n",
        "plt.xlabel('Quality Ratings')\n",
        "plt.ylabel('Count')\n",
        "\n",
        "# Adjust x-ticks\n",
        "plt.xticks(np.arange(3, 9, step=1))\n",
        "\n",
        "# Save the figure\n",
        "plt.savefig('histogram_wine_quality_ratings.png', dpi = 300,\n",
        "                                      bbox_inches = 'tight')\n",
        "plt.show()"
      ],
      "metadata": {
        "id": "4mA3kE0Wd6nT"
      },
      "execution_count": null,
      "outputs": []
    }
  ]
}